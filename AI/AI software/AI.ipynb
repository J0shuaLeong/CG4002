{
  "metadata": {
    "kernelspec": {
      "display_name": "Python 3",
      "name": "python3"
    },
    "language_info": {
      "name": "python",
      "version": "3.10.14",
      "mimetype": "text/x-python",
      "codemirror_mode": {
        "name": "ipython",
        "version": 3
      },
      "pygments_lexer": "ipython3",
      "nbconvert_exporter": "python",
      "file_extension": ".py"
    },
    "kaggle": {
      "accelerator": "gpu",
      "dataSources": [
        {
          "sourceId": 9688767,
          "sourceType": "datasetVersion",
          "datasetId": 5190496
        },
        {
          "sourceId": 9886867,
          "sourceType": "datasetVersion",
          "datasetId": 6037030
        }
      ],
      "dockerImageVersionId": 30787,
      "isInternetEnabled": true,
      "language": "python",
      "sourceType": "notebook",
      "isGpuEnabled": true
    },
    "colab": {
      "provenance": [],
      "gpuType": "T4"
    },
    "accelerator": "GPU"
  },
  "nbformat_minor": 0,
  "nbformat": 4,
  "cells": [
    {
      "cell_type": "markdown",
      "source": [
        "# 1) Split data"
      ],
      "metadata": {
        "id": "Gb4-zHYa1HhA"
      }
    },
    {
      "cell_type": "code",
      "source": [
        "import pandas as pd\n",
        "import numpy as np\n",
        "import matplotlib.pyplot as plt\n",
        "import os\n",
        "DATA_FOLDER = 'glove_data'"
      ],
      "metadata": {
        "execution": {
          "iopub.status.busy": "2024-11-12T17:29:13.153742Z",
          "iopub.execute_input": "2024-11-12T17:29:13.154008Z",
          "iopub.status.idle": "2024-11-12T17:29:13.521224Z",
          "shell.execute_reply.started": "2024-11-12T17:29:13.153971Z",
          "shell.execute_reply": "2024-11-12T17:29:13.520492Z"
        },
        "trusted": true,
        "id": "r94I2Adn1HhB"
      },
      "outputs": [],
      "execution_count": 3
    },
    {
      "cell_type": "code",
      "source": [
        "files_list = os.listdir(DATA_FOLDER)\n",
        "files_list"
      ],
      "metadata": {
        "execution": {
          "iopub.status.busy": "2024-11-12T17:29:13.522410Z",
          "iopub.execute_input": "2024-11-12T17:29:13.523257Z",
          "iopub.status.idle": "2024-11-12T17:29:13.532101Z",
          "shell.execute_reply.started": "2024-11-12T17:29:13.523209Z",
          "shell.execute_reply": "2024-11-12T17:29:13.531226Z"
        },
        "trusted": true,
        "colab": {
          "base_uri": "https://localhost:8080/"
        },
        "id": "eFGU1_vo1HhC",
        "outputId": "9e743edd-0262-405b-9d0f-4b570dadd357"
      },
      "outputs": [
        {
          "output_type": "execute_result",
          "data": {
            "text/plain": [
              "['glove_train.csv', 'glove_test.csv', 'glove_val.csv']"
            ]
          },
          "metadata": {},
          "execution_count": 4
        }
      ],
      "execution_count": 4
    },
    {
      "cell_type": "code",
      "source": [
        "dfs = []\n",
        "for file in files_list:\n",
        "    df = pd.read_csv(os.path.join(DATA_FOLDER, file), header=0, delimiter=\",\")\n",
        "    print(\"File: \", file)\n",
        "    print(\"Shape: \", df.shape)\n",
        "    print(f'There are {df.isna().any(axis=1).sum()} nan rows')\n",
        "    dfs.append(df)\n",
        "dfs[0].head()"
      ],
      "metadata": {
        "execution": {
          "iopub.status.busy": "2024-11-12T17:29:13.533235Z",
          "iopub.execute_input": "2024-11-12T17:29:13.533619Z",
          "iopub.status.idle": "2024-11-12T17:29:13.719613Z",
          "shell.execute_reply.started": "2024-11-12T17:29:13.533576Z",
          "shell.execute_reply": "2024-11-12T17:29:13.718624Z"
        },
        "trusted": true,
        "colab": {
          "base_uri": "https://localhost:8080/",
          "height": 370
        },
        "id": "buQkbNZG1HhC",
        "outputId": "dd77ae83-f11f-41f9-d81d-e5d1fbd44ff1"
      },
      "outputs": [
        {
          "output_type": "stream",
          "name": "stdout",
          "text": [
            "File:  glove_train.csv\n",
            "Shape:  (101336, 8)\n",
            "There are 0 nan rows\n",
            "File:  glove_test.csv\n",
            "Shape:  (23294, 8)\n",
            "There are 0 nan rows\n",
            "File:  glove_val.csv\n",
            "Shape:  (13763, 8)\n",
            "There are 0 nan rows\n"
          ]
        },
        {
          "output_type": "execute_result",
          "data": {
            "text/plain": [
              "   Count  AccX  AccY  AccZ  GyrX  GyrY  GyrZ  Activity\n",
              "0      1   912   334   365  -183  -112   -65         0\n",
              "1      2   852   358   358  -181  -146   -51         0\n",
              "2      3   746   371   399  -154  -109   -24         0\n",
              "3      4   741   359   416  -153   -55   -13         0\n",
              "4      5   721   402   368  -189   -78   -20         0"
            ],
            "text/html": [
              "\n",
              "  <div id=\"df-12df0884-384e-42d4-af06-56871723d3c0\" class=\"colab-df-container\">\n",
              "    <div>\n",
              "<style scoped>\n",
              "    .dataframe tbody tr th:only-of-type {\n",
              "        vertical-align: middle;\n",
              "    }\n",
              "\n",
              "    .dataframe tbody tr th {\n",
              "        vertical-align: top;\n",
              "    }\n",
              "\n",
              "    .dataframe thead th {\n",
              "        text-align: right;\n",
              "    }\n",
              "</style>\n",
              "<table border=\"1\" class=\"dataframe\">\n",
              "  <thead>\n",
              "    <tr style=\"text-align: right;\">\n",
              "      <th></th>\n",
              "      <th>Count</th>\n",
              "      <th>AccX</th>\n",
              "      <th>AccY</th>\n",
              "      <th>AccZ</th>\n",
              "      <th>GyrX</th>\n",
              "      <th>GyrY</th>\n",
              "      <th>GyrZ</th>\n",
              "      <th>Activity</th>\n",
              "    </tr>\n",
              "  </thead>\n",
              "  <tbody>\n",
              "    <tr>\n",
              "      <th>0</th>\n",
              "      <td>1</td>\n",
              "      <td>912</td>\n",
              "      <td>334</td>\n",
              "      <td>365</td>\n",
              "      <td>-183</td>\n",
              "      <td>-112</td>\n",
              "      <td>-65</td>\n",
              "      <td>0</td>\n",
              "    </tr>\n",
              "    <tr>\n",
              "      <th>1</th>\n",
              "      <td>2</td>\n",
              "      <td>852</td>\n",
              "      <td>358</td>\n",
              "      <td>358</td>\n",
              "      <td>-181</td>\n",
              "      <td>-146</td>\n",
              "      <td>-51</td>\n",
              "      <td>0</td>\n",
              "    </tr>\n",
              "    <tr>\n",
              "      <th>2</th>\n",
              "      <td>3</td>\n",
              "      <td>746</td>\n",
              "      <td>371</td>\n",
              "      <td>399</td>\n",
              "      <td>-154</td>\n",
              "      <td>-109</td>\n",
              "      <td>-24</td>\n",
              "      <td>0</td>\n",
              "    </tr>\n",
              "    <tr>\n",
              "      <th>3</th>\n",
              "      <td>4</td>\n",
              "      <td>741</td>\n",
              "      <td>359</td>\n",
              "      <td>416</td>\n",
              "      <td>-153</td>\n",
              "      <td>-55</td>\n",
              "      <td>-13</td>\n",
              "      <td>0</td>\n",
              "    </tr>\n",
              "    <tr>\n",
              "      <th>4</th>\n",
              "      <td>5</td>\n",
              "      <td>721</td>\n",
              "      <td>402</td>\n",
              "      <td>368</td>\n",
              "      <td>-189</td>\n",
              "      <td>-78</td>\n",
              "      <td>-20</td>\n",
              "      <td>0</td>\n",
              "    </tr>\n",
              "  </tbody>\n",
              "</table>\n",
              "</div>\n",
              "    <div class=\"colab-df-buttons\">\n",
              "\n",
              "  <div class=\"colab-df-container\">\n",
              "    <button class=\"colab-df-convert\" onclick=\"convertToInteractive('df-12df0884-384e-42d4-af06-56871723d3c0')\"\n",
              "            title=\"Convert this dataframe to an interactive table.\"\n",
              "            style=\"display:none;\">\n",
              "\n",
              "  <svg xmlns=\"http://www.w3.org/2000/svg\" height=\"24px\" viewBox=\"0 -960 960 960\">\n",
              "    <path d=\"M120-120v-720h720v720H120Zm60-500h600v-160H180v160Zm220 220h160v-160H400v160Zm0 220h160v-160H400v160ZM180-400h160v-160H180v160Zm440 0h160v-160H620v160ZM180-180h160v-160H180v160Zm440 0h160v-160H620v160Z\"/>\n",
              "  </svg>\n",
              "    </button>\n",
              "\n",
              "  <style>\n",
              "    .colab-df-container {\n",
              "      display:flex;\n",
              "      gap: 12px;\n",
              "    }\n",
              "\n",
              "    .colab-df-convert {\n",
              "      background-color: #E8F0FE;\n",
              "      border: none;\n",
              "      border-radius: 50%;\n",
              "      cursor: pointer;\n",
              "      display: none;\n",
              "      fill: #1967D2;\n",
              "      height: 32px;\n",
              "      padding: 0 0 0 0;\n",
              "      width: 32px;\n",
              "    }\n",
              "\n",
              "    .colab-df-convert:hover {\n",
              "      background-color: #E2EBFA;\n",
              "      box-shadow: 0px 1px 2px rgba(60, 64, 67, 0.3), 0px 1px 3px 1px rgba(60, 64, 67, 0.15);\n",
              "      fill: #174EA6;\n",
              "    }\n",
              "\n",
              "    .colab-df-buttons div {\n",
              "      margin-bottom: 4px;\n",
              "    }\n",
              "\n",
              "    [theme=dark] .colab-df-convert {\n",
              "      background-color: #3B4455;\n",
              "      fill: #D2E3FC;\n",
              "    }\n",
              "\n",
              "    [theme=dark] .colab-df-convert:hover {\n",
              "      background-color: #434B5C;\n",
              "      box-shadow: 0px 1px 3px 1px rgba(0, 0, 0, 0.15);\n",
              "      filter: drop-shadow(0px 1px 2px rgba(0, 0, 0, 0.3));\n",
              "      fill: #FFFFFF;\n",
              "    }\n",
              "  </style>\n",
              "\n",
              "    <script>\n",
              "      const buttonEl =\n",
              "        document.querySelector('#df-12df0884-384e-42d4-af06-56871723d3c0 button.colab-df-convert');\n",
              "      buttonEl.style.display =\n",
              "        google.colab.kernel.accessAllowed ? 'block' : 'none';\n",
              "\n",
              "      async function convertToInteractive(key) {\n",
              "        const element = document.querySelector('#df-12df0884-384e-42d4-af06-56871723d3c0');\n",
              "        const dataTable =\n",
              "          await google.colab.kernel.invokeFunction('convertToInteractive',\n",
              "                                                    [key], {});\n",
              "        if (!dataTable) return;\n",
              "\n",
              "        const docLinkHtml = 'Like what you see? Visit the ' +\n",
              "          '<a target=\"_blank\" href=https://colab.research.google.com/notebooks/data_table.ipynb>data table notebook</a>'\n",
              "          + ' to learn more about interactive tables.';\n",
              "        element.innerHTML = '';\n",
              "        dataTable['output_type'] = 'display_data';\n",
              "        await google.colab.output.renderOutput(dataTable, element);\n",
              "        const docLink = document.createElement('div');\n",
              "        docLink.innerHTML = docLinkHtml;\n",
              "        element.appendChild(docLink);\n",
              "      }\n",
              "    </script>\n",
              "  </div>\n",
              "\n",
              "\n",
              "<div id=\"df-7d75b03d-ff91-4003-869e-d9f352325bd6\">\n",
              "  <button class=\"colab-df-quickchart\" onclick=\"quickchart('df-7d75b03d-ff91-4003-869e-d9f352325bd6')\"\n",
              "            title=\"Suggest charts\"\n",
              "            style=\"display:none;\">\n",
              "\n",
              "<svg xmlns=\"http://www.w3.org/2000/svg\" height=\"24px\"viewBox=\"0 0 24 24\"\n",
              "     width=\"24px\">\n",
              "    <g>\n",
              "        <path d=\"M19 3H5c-1.1 0-2 .9-2 2v14c0 1.1.9 2 2 2h14c1.1 0 2-.9 2-2V5c0-1.1-.9-2-2-2zM9 17H7v-7h2v7zm4 0h-2V7h2v10zm4 0h-2v-4h2v4z\"/>\n",
              "    </g>\n",
              "</svg>\n",
              "  </button>\n",
              "\n",
              "<style>\n",
              "  .colab-df-quickchart {\n",
              "      --bg-color: #E8F0FE;\n",
              "      --fill-color: #1967D2;\n",
              "      --hover-bg-color: #E2EBFA;\n",
              "      --hover-fill-color: #174EA6;\n",
              "      --disabled-fill-color: #AAA;\n",
              "      --disabled-bg-color: #DDD;\n",
              "  }\n",
              "\n",
              "  [theme=dark] .colab-df-quickchart {\n",
              "      --bg-color: #3B4455;\n",
              "      --fill-color: #D2E3FC;\n",
              "      --hover-bg-color: #434B5C;\n",
              "      --hover-fill-color: #FFFFFF;\n",
              "      --disabled-bg-color: #3B4455;\n",
              "      --disabled-fill-color: #666;\n",
              "  }\n",
              "\n",
              "  .colab-df-quickchart {\n",
              "    background-color: var(--bg-color);\n",
              "    border: none;\n",
              "    border-radius: 50%;\n",
              "    cursor: pointer;\n",
              "    display: none;\n",
              "    fill: var(--fill-color);\n",
              "    height: 32px;\n",
              "    padding: 0;\n",
              "    width: 32px;\n",
              "  }\n",
              "\n",
              "  .colab-df-quickchart:hover {\n",
              "    background-color: var(--hover-bg-color);\n",
              "    box-shadow: 0 1px 2px rgba(60, 64, 67, 0.3), 0 1px 3px 1px rgba(60, 64, 67, 0.15);\n",
              "    fill: var(--button-hover-fill-color);\n",
              "  }\n",
              "\n",
              "  .colab-df-quickchart-complete:disabled,\n",
              "  .colab-df-quickchart-complete:disabled:hover {\n",
              "    background-color: var(--disabled-bg-color);\n",
              "    fill: var(--disabled-fill-color);\n",
              "    box-shadow: none;\n",
              "  }\n",
              "\n",
              "  .colab-df-spinner {\n",
              "    border: 2px solid var(--fill-color);\n",
              "    border-color: transparent;\n",
              "    border-bottom-color: var(--fill-color);\n",
              "    animation:\n",
              "      spin 1s steps(1) infinite;\n",
              "  }\n",
              "\n",
              "  @keyframes spin {\n",
              "    0% {\n",
              "      border-color: transparent;\n",
              "      border-bottom-color: var(--fill-color);\n",
              "      border-left-color: var(--fill-color);\n",
              "    }\n",
              "    20% {\n",
              "      border-color: transparent;\n",
              "      border-left-color: var(--fill-color);\n",
              "      border-top-color: var(--fill-color);\n",
              "    }\n",
              "    30% {\n",
              "      border-color: transparent;\n",
              "      border-left-color: var(--fill-color);\n",
              "      border-top-color: var(--fill-color);\n",
              "      border-right-color: var(--fill-color);\n",
              "    }\n",
              "    40% {\n",
              "      border-color: transparent;\n",
              "      border-right-color: var(--fill-color);\n",
              "      border-top-color: var(--fill-color);\n",
              "    }\n",
              "    60% {\n",
              "      border-color: transparent;\n",
              "      border-right-color: var(--fill-color);\n",
              "    }\n",
              "    80% {\n",
              "      border-color: transparent;\n",
              "      border-right-color: var(--fill-color);\n",
              "      border-bottom-color: var(--fill-color);\n",
              "    }\n",
              "    90% {\n",
              "      border-color: transparent;\n",
              "      border-bottom-color: var(--fill-color);\n",
              "    }\n",
              "  }\n",
              "</style>\n",
              "\n",
              "  <script>\n",
              "    async function quickchart(key) {\n",
              "      const quickchartButtonEl =\n",
              "        document.querySelector('#' + key + ' button');\n",
              "      quickchartButtonEl.disabled = true;  // To prevent multiple clicks.\n",
              "      quickchartButtonEl.classList.add('colab-df-spinner');\n",
              "      try {\n",
              "        const charts = await google.colab.kernel.invokeFunction(\n",
              "            'suggestCharts', [key], {});\n",
              "      } catch (error) {\n",
              "        console.error('Error during call to suggestCharts:', error);\n",
              "      }\n",
              "      quickchartButtonEl.classList.remove('colab-df-spinner');\n",
              "      quickchartButtonEl.classList.add('colab-df-quickchart-complete');\n",
              "    }\n",
              "    (() => {\n",
              "      let quickchartButtonEl =\n",
              "        document.querySelector('#df-7d75b03d-ff91-4003-869e-d9f352325bd6 button');\n",
              "      quickchartButtonEl.style.display =\n",
              "        google.colab.kernel.accessAllowed ? 'block' : 'none';\n",
              "    })();\n",
              "  </script>\n",
              "</div>\n",
              "\n",
              "    </div>\n",
              "  </div>\n"
            ],
            "application/vnd.google.colaboratory.intrinsic+json": {
              "type": "dataframe",
              "summary": "{\n  \"name\": \"dfs[0]\",\n  \"rows\": 5,\n  \"fields\": [\n    {\n      \"column\": \"Count\",\n      \"properties\": {\n        \"dtype\": \"number\",\n        \"std\": 1,\n        \"min\": 1,\n        \"max\": 5,\n        \"num_unique_values\": 5,\n        \"samples\": [\n          2,\n          5,\n          3\n        ],\n        \"semantic_type\": \"\",\n        \"description\": \"\"\n      }\n    },\n    {\n      \"column\": \"AccX\",\n      \"properties\": {\n        \"dtype\": \"number\",\n        \"std\": 83,\n        \"min\": 721,\n        \"max\": 912,\n        \"num_unique_values\": 5,\n        \"samples\": [\n          852,\n          721,\n          746\n        ],\n        \"semantic_type\": \"\",\n        \"description\": \"\"\n      }\n    },\n    {\n      \"column\": \"AccY\",\n      \"properties\": {\n        \"dtype\": \"number\",\n        \"std\": 24,\n        \"min\": 334,\n        \"max\": 402,\n        \"num_unique_values\": 5,\n        \"samples\": [\n          358,\n          402,\n          371\n        ],\n        \"semantic_type\": \"\",\n        \"description\": \"\"\n      }\n    },\n    {\n      \"column\": \"AccZ\",\n      \"properties\": {\n        \"dtype\": \"number\",\n        \"std\": 25,\n        \"min\": 358,\n        \"max\": 416,\n        \"num_unique_values\": 5,\n        \"samples\": [\n          358,\n          368,\n          399\n        ],\n        \"semantic_type\": \"\",\n        \"description\": \"\"\n      }\n    },\n    {\n      \"column\": \"GyrX\",\n      \"properties\": {\n        \"dtype\": \"number\",\n        \"std\": 17,\n        \"min\": -189,\n        \"max\": -153,\n        \"num_unique_values\": 5,\n        \"samples\": [\n          -181,\n          -189,\n          -154\n        ],\n        \"semantic_type\": \"\",\n        \"description\": \"\"\n      }\n    },\n    {\n      \"column\": \"GyrY\",\n      \"properties\": {\n        \"dtype\": \"number\",\n        \"std\": 34,\n        \"min\": -146,\n        \"max\": -55,\n        \"num_unique_values\": 5,\n        \"samples\": [\n          -146,\n          -78,\n          -109\n        ],\n        \"semantic_type\": \"\",\n        \"description\": \"\"\n      }\n    },\n    {\n      \"column\": \"GyrZ\",\n      \"properties\": {\n        \"dtype\": \"number\",\n        \"std\": 22,\n        \"min\": -65,\n        \"max\": -13,\n        \"num_unique_values\": 5,\n        \"samples\": [\n          -51,\n          -20,\n          -24\n        ],\n        \"semantic_type\": \"\",\n        \"description\": \"\"\n      }\n    },\n    {\n      \"column\": \"Activity\",\n      \"properties\": {\n        \"dtype\": \"number\",\n        \"std\": 0,\n        \"min\": 0,\n        \"max\": 0,\n        \"num_unique_values\": 1,\n        \"samples\": [\n          0\n        ],\n        \"semantic_type\": \"\",\n        \"description\": \"\"\n      }\n    }\n  ]\n}"
            }
          },
          "metadata": {},
          "execution_count": 5
        }
      ],
      "execution_count": 5
    },
    {
      "cell_type": "code",
      "source": [
        "train_data = dfs[0]\n",
        "val_data = dfs[2]\n",
        "test_data = dfs[1]\n",
        "\n",
        "import numpy as np\n",
        "train_idx = []\n",
        "val_idx = []\n",
        "test_idx = []\n",
        "\n",
        "def gen_idx(idx, data):\n",
        "    for i in range(data.shape[0] - 1):\n",
        "        if (data.iloc[i]['Count'] - data.iloc[i + 1]['Count'] > 0):\n",
        "            idx.append(i)\n",
        "gen_idx(train_idx, train_data)\n",
        "gen_idx(val_idx, val_data)\n",
        "gen_idx(test_idx, test_data)"
      ],
      "metadata": {
        "execution": {
          "iopub.status.busy": "2024-11-12T17:29:13.721054Z",
          "iopub.execute_input": "2024-11-12T17:29:13.721676Z",
          "iopub.status.idle": "2024-11-12T17:29:22.083470Z",
          "shell.execute_reply.started": "2024-11-12T17:29:13.721626Z",
          "shell.execute_reply": "2024-11-12T17:29:22.082702Z"
        },
        "trusted": true,
        "id": "uqGGRjaY1HhD"
      },
      "outputs": [],
      "execution_count": 15
    },
    {
      "cell_type": "code",
      "source": [
        "train_idx = [-1] + train_idx\n",
        "val_idx = [-1] + val_idx\n",
        "test_idx = [-1] + test_idx"
      ],
      "metadata": {
        "execution": {
          "iopub.status.busy": "2024-11-12T17:29:22.084705Z",
          "iopub.execute_input": "2024-11-12T17:29:22.085072Z",
          "iopub.status.idle": "2024-11-12T17:29:22.090231Z",
          "shell.execute_reply.started": "2024-11-12T17:29:22.085027Z",
          "shell.execute_reply": "2024-11-12T17:29:22.089149Z"
        },
        "trusted": true,
        "id": "q-z0B8OS1HhE"
      },
      "outputs": [],
      "execution_count": 16
    },
    {
      "cell_type": "markdown",
      "source": [
        "# 3) Data Preprocessing"
      ],
      "metadata": {
        "id": "9oZuduxU1HhE"
      }
    },
    {
      "cell_type": "code",
      "source": [
        "train_data = train_data.drop(columns=['Count'])\n",
        "val_data = val_data.drop(columns=['Count'])\n",
        "test_data = test_data.drop(columns=['Count'])"
      ],
      "metadata": {
        "execution": {
          "iopub.status.busy": "2024-11-12T17:29:22.116262Z",
          "iopub.execute_input": "2024-11-12T17:29:22.116583Z",
          "iopub.status.idle": "2024-11-12T17:29:22.134165Z",
          "shell.execute_reply.started": "2024-11-12T17:29:22.116551Z",
          "shell.execute_reply": "2024-11-12T17:29:22.133198Z"
        },
        "trusted": true,
        "id": "kCstB-Hv1HhE"
      },
      "outputs": [],
      "execution_count": 17
    },
    {
      "cell_type": "code",
      "source": [
        "import matplotlib.pyplot as plt\n",
        "import seaborn as sns\n",
        "import matplotlib.ticker as mtick\n",
        "\n",
        "\n",
        "def plot_categories_count(y):\n",
        "    count = y.value_counts().sort_index()\n",
        "    ax = count.plot(kind='bar')\n",
        "    plt.title('Count of each category')\n",
        "    plt.xlabel('Activity')\n",
        "    plt.ylabel('Count')\n",
        "\n",
        "    # Reference: https://stackoverflow.com/questions/73674585/pandas-matplotlib-labels-bars-as-percentage\n",
        "    percentage = count / count.sum() * 100\n",
        "    labels = [f'{p:.1f}%' for p in percentage]\n",
        "    for container in ax.containers:\n",
        "        ax.bar_label(container, labels=labels)\n",
        "    plt.tight_layout()\n",
        "    plt.show()\n",
        "\n",
        "plot_categories_count(train_data['Activity'])"
      ],
      "metadata": {
        "execution": {
          "iopub.status.busy": "2024-11-12T17:29:22.135396Z",
          "iopub.execute_input": "2024-11-12T17:29:22.135758Z",
          "iopub.status.idle": "2024-11-12T17:29:23.356664Z",
          "shell.execute_reply.started": "2024-11-12T17:29:22.135724Z",
          "shell.execute_reply": "2024-11-12T17:29:23.355798Z"
        },
        "trusted": true,
        "colab": {
          "base_uri": "https://localhost:8080/",
          "height": 487
        },
        "id": "YAsPDdHB1HhF",
        "outputId": "ed50ff29-ffcf-4c3a-df72-ccdc94474cd4"
      },
      "outputs": [
        {
          "output_type": "display_data",
          "data": {
            "text/plain": [
              "<Figure size 640x480 with 1 Axes>"
            ],
            "image/png": "[encoded data removed]"
          },
          "metadata": {}
        }
      ],
      "execution_count": 18
    },
    {
      "cell_type": "code",
      "source": [
        "train_data = train_data.to_numpy()\n",
        "val_data = val_data.to_numpy()\n",
        "test_data = test_data.to_numpy()"
      ],
      "metadata": {
        "execution": {
          "iopub.status.busy": "2024-11-12T17:29:23.357932Z",
          "iopub.execute_input": "2024-11-12T17:29:23.358374Z",
          "iopub.status.idle": "2024-11-12T17:29:23.362809Z",
          "shell.execute_reply.started": "2024-11-12T17:29:23.358337Z",
          "shell.execute_reply": "2024-11-12T17:29:23.361960Z"
        },
        "trusted": true,
        "id": "qr7cZ5j41HhF"
      },
      "outputs": [],
      "execution_count": 19
    },
    {
      "cell_type": "code",
      "source": [
        "import torch\n",
        "import torch.nn as nn\n",
        "import torch.optim as optim\n",
        "import torch.nn.functional as F\n",
        "from torch.utils.data import Dataset, DataLoader\n",
        "\n",
        "class customDataset(Dataset):\n",
        "    def __init__(self, data, idx):\n",
        "        self.data = data\n",
        "        self.idx = idx\n",
        "    def __len__(self):\n",
        "        return len(self.idx) - 1\n",
        "    def __getitem__(self, idx):\n",
        "        return self.data[self.idx[idx] + 1:self.idx[idx + 1] + 1]\n",
        "\n",
        "train_dataset = customDataset(train_data, train_idx)\n",
        "val_dataset = customDataset(val_data, val_idx)\n",
        "test_dataset = customDataset(test_data, test_idx)\n",
        "\n",
        "def collate_fn(batch):\n",
        "    # Convert each item in the batch to a tensor\n",
        "    batch = [torch.tensor(i) for i in batch]\n",
        "    batch.append(torch.zeros(60,7))\n",
        "\n",
        "    batch = torch.nn.utils.rnn.pad_sequence(batch, batch_first=True, padding_value=0)\n",
        "    num_elements = len(batch)\n",
        "\n",
        "    batch = batch[:num_elements - 1]\n",
        "    batch = batch.permute(0, 2, 1)\n",
        "\n",
        "    return batch\n",
        "train_loader = DataLoader(train_dataset, batch_size=128, shuffle=True, collate_fn=collate_fn)\n",
        "test_loader = DataLoader(test_dataset, batch_size=128, shuffle=False, collate_fn=collate_fn)\n",
        "val_loader = DataLoader(val_dataset, batch_size=128, shuffle=False, collate_fn=collate_fn)"
      ],
      "metadata": {
        "execution": {
          "iopub.status.busy": "2024-11-12T17:29:23.364218Z",
          "iopub.execute_input": "2024-11-12T17:29:23.364594Z",
          "iopub.status.idle": "2024-11-12T17:29:26.676018Z",
          "shell.execute_reply.started": "2024-11-12T17:29:23.364550Z",
          "shell.execute_reply": "2024-11-12T17:29:26.675226Z"
        },
        "trusted": true,
        "id": "bx8enWc11HhF"
      },
      "outputs": [],
      "execution_count": 20
    },
    {
      "cell_type": "markdown",
      "source": [
        "# 4) Training and tuning"
      ],
      "metadata": {
        "id": "7Y5pxA4U1HhH"
      }
    },
    {
      "cell_type": "code",
      "source": [
        "import torch\n",
        "device = torch.device(\"cuda\" if torch.cuda.is_available() else \"cpu\")"
      ],
      "metadata": {
        "execution": {
          "iopub.status.busy": "2024-11-12T17:29:26.727261Z",
          "iopub.execute_input": "2024-11-12T17:29:26.727636Z",
          "iopub.status.idle": "2024-11-12T17:29:26.769163Z",
          "shell.execute_reply.started": "2024-11-12T17:29:26.727593Z",
          "shell.execute_reply": "2024-11-12T17:29:26.768337Z"
        },
        "trusted": true,
        "id": "cGOXxfV01HhH"
      },
      "outputs": [],
      "execution_count": 21
    },
    {
      "cell_type": "code",
      "source": [
        "!pip install optuna"
      ],
      "metadata": {
        "colab": {
          "base_uri": "https://localhost:8080/"
        },
        "id": "ggGf3MkrI83a",
        "outputId": "b16ad5cf-f469-4f5a-9a3a-cd810cb46c4c"
      },
      "execution_count": 22,
      "outputs": [
        {
          "output_type": "stream",
          "name": "stdout",
          "text": [
            "Requirement already satisfied: optuna in /usr/local/lib/python3.10/dist-packages (4.1.0)\n",
            "Requirement already satisfied: alembic>=1.5.0 in /usr/local/lib/python3.10/dist-packages (from optuna) (1.14.0)\n",
            "Requirement already satisfied: colorlog in /usr/local/lib/python3.10/dist-packages (from optuna) (6.9.0)\n",
            "Requirement already satisfied: numpy in /usr/local/lib/python3.10/dist-packages (from optuna) (1.26.4)\n",
            "Requirement already satisfied: packaging>=20.0 in /usr/local/lib/python3.10/dist-packages (from optuna) (24.2)\n",
            "Requirement already satisfied: sqlalchemy>=1.4.2 in /usr/local/lib/python3.10/dist-packages (from optuna) (2.0.36)\n",
            "Requirement already satisfied: tqdm in /usr/local/lib/python3.10/dist-packages (from optuna) (4.66.6)\n",
            "Requirement already satisfied: PyYAML in /usr/local/lib/python3.10/dist-packages (from optuna) (6.0.2)\n",
            "Requirement already satisfied: Mako in /usr/local/lib/python3.10/dist-packages (from alembic>=1.5.0->optuna) (1.3.6)\n",
            "Requirement already satisfied: typing-extensions>=4 in /usr/local/lib/python3.10/dist-packages (from alembic>=1.5.0->optuna) (4.12.2)\n",
            "Requirement already satisfied: greenlet!=0.4.17 in /usr/local/lib/python3.10/dist-packages (from sqlalchemy>=1.4.2->optuna) (3.1.1)\n",
            "Requirement already satisfied: MarkupSafe>=0.9.2 in /usr/local/lib/python3.10/dist-packages (from Mako->alembic>=1.5.0->optuna) (3.0.2)\n"
          ]
        }
      ]
    },
    {
      "cell_type": "code",
      "source": [
        "from models import CNN\n",
        "from engine import train, evaluate\n",
        "import time\n",
        "import math\n",
        "import os\n",
        "import optuna\n",
        "from copy import deepcopy\n",
        "\n",
        "OUTPUT_PATH = \"/content/\"\n",
        "DB = \"tuning_db\"\n",
        "hyperparams = {\n",
        "    \"num_trials\": 20,\n",
        "    \"dropout_rate\": (0.3, 0.6),\n",
        "    \"num_epochs\": (100, 300),\n",
        "}\n",
        "\n",
        "NUM_CLASSES = 8\n",
        "\n",
        "def objective(trial):\n",
        "    dropout_range = hyperparams[\"dropout_rate\"]\n",
        "    dropout_rate = trial.suggest_float(\"dropout\", *dropout_range)\n",
        "    epochs_range = hyperparams[\"num_epochs\"]\n",
        "    epochs = trial.suggest_int(\"epochs\", *epochs_range)\n",
        "\n",
        "    torch.manual_seed(0)\n",
        "    torch.backends.cudnn.deterministic = True\n",
        "    torch.backends.cudnn.benchmark = False\n",
        "\n",
        "    model = CNN(NUM_CLASSES, dropout_rate).to(device)\n",
        "    criterion = nn.CrossEntropyLoss()\n",
        "    optimizer = optim.Adam(model.parameters(), lr=0.001)\n",
        "\n",
        "    train(model, train_loader, criterion, optimizer, device, num_epochs=epochs)\n",
        "    results = evaluate(model, val_loader, device)\n",
        "    return results[2]\n",
        "\n",
        "sampler = optuna.samplers.QMCSampler(seed = 42)\n",
        "db_folder = f\"{OUTPUT_PATH}/{DB}\"\n",
        "# Create folder if it doesn't exist\n",
        "if not os.path.exists(db_folder):\n",
        "    os.makedirs(db_folder)\n",
        "storage = f\"sqlite:///{db_folder}/random.db\"\n",
        "study = optuna.create_study(direction=\"maximize\", sampler=sampler,\n",
        "                            storage=storage, study_name=\"random\", load_if_exists=True)\n",
        "study.optimize(objective, n_trials=hyperparams[\"num_trials\"])\n",
        "trial = study.best_trial\n",
        "best_params_random = trial.params\n",
        "print(\"Accuracy: {}\".format(trial.value))\n",
        "print(\"Best hyperparameters: {}\".format(trial.params))"
      ],
      "metadata": {
        "colab": {
          "base_uri": "https://localhost:8080/"
        },
        "id": "h7Tb16DFHN-X",
        "outputId": "c44c2b67-4715-42c5-992b-062098232a94"
      },
      "execution_count": 23,
      "outputs": [
        {
          "output_type": "stream",
          "name": "stderr",
          "text": [
            "<ipython-input-23-5eff104644dd>:37: ExperimentalWarning: QMCSampler is experimental (supported from v3.0.0). The interface can change in the future.\n",
            "  sampler = optuna.samplers.QMCSampler(seed = 42)\n",
            "[I 2024-11-16 18:55:18,786] A new study created in RDB with name: random\n",
            "[I 2024-11-16 18:55:51,044] Trial 0 finished with value: 100.0 and parameters: {'dropout': 0.4123620356542087, 'epochs': 291}. Best is trial 0 with value: 100.0.\n"
          ]
        },
        {
          "output_type": "stream",
          "name": "stdout",
          "text": [
            "Loss: 0.03035656392967212\n",
            "Accuracy: 100.00%\n"
          ]
        },
        {
          "output_type": "stream",
          "name": "stderr",
          "text": [
            "[I 2024-11-16 18:55:58,944] Trial 1 finished with value: 100.0 and parameters: {'dropout': 0.3, 'epochs': 100}. Best is trial 0 with value: 100.0.\n"
          ]
        },
        {
          "output_type": "stream",
          "name": "stdout",
          "text": [
            "Loss: 0.07358683297752577\n",
            "Accuracy: 100.00%\n"
          ]
        },
        {
          "output_type": "stream",
          "name": "stderr",
          "text": [
            "[I 2024-11-16 18:56:13,931] Trial 2 finished with value: 100.0 and parameters: {'dropout': 0.44999999999999996, 'epochs': 200}. Best is trial 0 with value: 100.0.\n"
          ]
        },
        {
          "output_type": "stream",
          "name": "stdout",
          "text": [
            "Loss: 0.11252406917628832\n",
            "Accuracy: 100.00%\n"
          ]
        },
        {
          "output_type": "stream",
          "name": "stderr",
          "text": [
            "[I 2024-11-16 18:56:25,447] Trial 3 finished with value: 99.57081545064378 and parameters: {'dropout': 0.5249999999999999, 'epochs': 150}. Best is trial 0 with value: 100.0.\n"
          ]
        },
        {
          "output_type": "stream",
          "name": "stdout",
          "text": [
            "Loss: 0.3157139014219865\n",
            "Accuracy: 99.57%\n"
          ]
        },
        {
          "output_type": "stream",
          "name": "stderr",
          "text": [
            "[I 2024-11-16 18:56:44,604] Trial 4 finished with value: 100.0 and parameters: {'dropout': 0.375, 'epochs': 250}. Best is trial 0 with value: 100.0.\n"
          ]
        },
        {
          "output_type": "stream",
          "name": "stdout",
          "text": [
            "Loss: 0.03921748985158047\n",
            "Accuracy: 100.00%\n"
          ]
        },
        {
          "output_type": "stream",
          "name": "stderr",
          "text": [
            "[I 2024-11-16 18:56:57,839] Trial 5 finished with value: 99.57081545064378 and parameters: {'dropout': 0.4125, 'epochs': 175}. Best is trial 0 with value: 100.0.\n"
          ]
        },
        {
          "output_type": "stream",
          "name": "stdout",
          "text": [
            "Loss: 0.06820788151526358\n",
            "Accuracy: 99.57%\n"
          ]
        },
        {
          "output_type": "stream",
          "name": "stderr",
          "text": [
            "[I 2024-11-16 18:57:18,344] Trial 6 finished with value: 98.71244635193133 and parameters: {'dropout': 0.5625, 'epochs': 275}. Best is trial 0 with value: 100.0.\n"
          ]
        },
        {
          "output_type": "stream",
          "name": "stdout",
          "text": [
            "Loss: 0.15532894539865083\n",
            "Accuracy: 98.71%\n"
          ]
        },
        {
          "output_type": "stream",
          "name": "stderr",
          "text": [
            "[I 2024-11-16 18:57:29,008] Trial 7 finished with value: 99.57081545064378 and parameters: {'dropout': 0.4875, 'epochs': 125}. Best is trial 0 with value: 100.0.\n"
          ]
        },
        {
          "output_type": "stream",
          "name": "stdout",
          "text": [
            "Loss: 0.21189357107505202\n",
            "Accuracy: 99.57%\n"
          ]
        },
        {
          "output_type": "stream",
          "name": "stderr",
          "text": [
            "[I 2024-11-16 18:57:46,255] Trial 8 finished with value: 100.0 and parameters: {'dropout': 0.33749999999999997, 'epochs': 225}. Best is trial 0 with value: 100.0.\n"
          ]
        },
        {
          "output_type": "stream",
          "name": "stdout",
          "text": [
            "Loss: 0.1309135158517165\n",
            "Accuracy: 100.00%\n"
          ]
        },
        {
          "output_type": "stream",
          "name": "stderr",
          "text": [
            "[I 2024-11-16 18:57:58,394] Trial 9 finished with value: 99.57081545064378 and parameters: {'dropout': 0.35624999999999996, 'epochs': 162}. Best is trial 0 with value: 100.0.\n"
          ]
        },
        {
          "output_type": "stream",
          "name": "stdout",
          "text": [
            "Loss: 0.02093999095086474\n",
            "Accuracy: 99.57%\n"
          ]
        },
        {
          "output_type": "stream",
          "name": "stderr",
          "text": [
            "[I 2024-11-16 18:58:17,797] Trial 10 finished with value: 99.57081545064378 and parameters: {'dropout': 0.50625, 'epochs': 263}. Best is trial 0 with value: 100.0.\n"
          ]
        },
        {
          "output_type": "stream",
          "name": "stdout",
          "text": [
            "Loss: 0.031621655107301194\n",
            "Accuracy: 99.57%\n"
          ]
        },
        {
          "output_type": "stream",
          "name": "stderr",
          "text": [
            "[I 2024-11-16 18:58:26,435] Trial 11 finished with value: 99.57081545064378 and parameters: {'dropout': 0.58125, 'epochs': 112}. Best is trial 0 with value: 100.0.\n"
          ]
        },
        {
          "output_type": "stream",
          "name": "stdout",
          "text": [
            "Loss: 0.4071778077632189\n",
            "Accuracy: 99.57%\n"
          ]
        },
        {
          "output_type": "stream",
          "name": "stderr",
          "text": [
            "[I 2024-11-16 18:58:42,255] Trial 12 finished with value: 98.28326180257511 and parameters: {'dropout': 0.43125, 'epochs': 213}. Best is trial 0 with value: 100.0.\n"
          ]
        },
        {
          "output_type": "stream",
          "name": "stdout",
          "text": [
            "Loss: 0.3821163970278576\n",
            "Accuracy: 98.28%\n"
          ]
        },
        {
          "output_type": "stream",
          "name": "stderr",
          "text": [
            "[I 2024-11-16 18:58:52,723] Trial 13 finished with value: 100.0 and parameters: {'dropout': 0.39375, 'epochs': 137}. Best is trial 0 with value: 100.0.\n"
          ]
        },
        {
          "output_type": "stream",
          "name": "stdout",
          "text": [
            "Loss: 0.18319300591247156\n",
            "Accuracy: 100.00%\n"
          ]
        },
        {
          "output_type": "stream",
          "name": "stderr",
          "text": [
            "[I 2024-11-16 18:59:10,276] Trial 14 finished with value: 99.57081545064378 and parameters: {'dropout': 0.54375, 'epochs': 238}. Best is trial 0 with value: 100.0.\n"
          ]
        },
        {
          "output_type": "stream",
          "name": "stdout",
          "text": [
            "Loss: 0.08967928565107286\n",
            "Accuracy: 99.57%\n"
          ]
        },
        {
          "output_type": "stream",
          "name": "stderr",
          "text": [
            "[I 2024-11-16 18:59:24,548] Trial 15 finished with value: 99.57081545064378 and parameters: {'dropout': 0.46875, 'epochs': 187}. Best is trial 0 with value: 100.0.\n"
          ]
        },
        {
          "output_type": "stream",
          "name": "stdout",
          "text": [
            "Loss: 0.5637238374911249\n",
            "Accuracy: 99.57%\n"
          ]
        },
        {
          "output_type": "stream",
          "name": "stderr",
          "text": [
            "[I 2024-11-16 18:59:46,094] Trial 16 finished with value: 100.0 and parameters: {'dropout': 0.31875, 'epochs': 288}. Best is trial 0 with value: 100.0.\n"
          ]
        },
        {
          "output_type": "stream",
          "name": "stdout",
          "text": [
            "Loss: 0.012405025441239559\n",
            "Accuracy: 100.00%\n"
          ]
        },
        {
          "output_type": "stream",
          "name": "stderr",
          "text": [
            "[I 2024-11-16 19:00:00,615] Trial 17 finished with value: 100.0 and parameters: {'dropout': 0.328125, 'epochs': 194}. Best is trial 0 with value: 100.0.\n"
          ]
        },
        {
          "output_type": "stream",
          "name": "stdout",
          "text": [
            "Loss: 0.21142694071750157\n",
            "Accuracy: 100.00%\n"
          ]
        },
        {
          "output_type": "stream",
          "name": "stderr",
          "text": [
            "[I 2024-11-16 19:00:22,786] Trial 18 finished with value: 99.57081545064378 and parameters: {'dropout': 0.478125, 'epochs': 294}. Best is trial 0 with value: 100.0.\n"
          ]
        },
        {
          "output_type": "stream",
          "name": "stdout",
          "text": [
            "Loss: 0.05157518524856641\n",
            "Accuracy: 99.57%\n"
          ]
        },
        {
          "output_type": "stream",
          "name": "stderr",
          "text": [
            "[I 2024-11-16 19:00:33,592] Trial 19 finished with value: 98.28326180257511 and parameters: {'dropout': 0.553125, 'epochs': 143}. Best is trial 0 with value: 100.0.\n"
          ]
        },
        {
          "output_type": "stream",
          "name": "stdout",
          "text": [
            "Loss: 0.32325203088112175\n",
            "Accuracy: 98.28%\n",
            "Accuracy: 100.0\n",
            "Best hyperparameters: {'dropout': 0.4123620356542087, 'epochs': 291}\n"
          ]
        }
      ]
    },
    {
      "cell_type": "markdown",
      "source": [
        "# 5) Final test"
      ],
      "metadata": {
        "id": "DzgjJ6PB1HhM"
      }
    },
    {
      "cell_type": "code",
      "source": [
        "torch.manual_seed(0)\n",
        "torch.backends.cudnn.deterministic = True\n",
        "torch.backends.cudnn.benchmark = False\n",
        "model = CNN(NUM_CLASSES, 0.45).to(device)\n",
        "criterion = nn.CrossEntropyLoss()\n",
        "optimizer = optim.Adam(model.parameters(), lr=0.001)\n",
        "\n",
        "train(model, train_loader, criterion, optimizer, device, num_epochs=200)"
      ],
      "metadata": {
        "colab": {
          "base_uri": "https://localhost:8080/"
        },
        "id": "ShyQh180LSMa",
        "outputId": "073e5387-f521-4422-855f-025d98019068"
      },
      "execution_count": 24,
      "outputs": [
        {
          "output_type": "stream",
          "name": "stdout",
          "text": [
            "Loss: 0.11252406917628832\n"
          ]
        }
      ]
    },
    {
      "cell_type": "code",
      "source": [
        "from engine import evaluate, plot_confusion_matrix\n",
        "y, y_pred, acc = evaluate(model, test_loader, device)\n",
        "plot_confusion_matrix(y, y_pred, acc)\n"
      ],
      "metadata": {
        "colab": {
          "base_uri": "https://localhost:8080/",
          "height": 839
        },
        "id": "8M822pHaAKpO",
        "outputId": "67ffd87b-9448-4ae2-a69c-d517f21d88e1"
      },
      "execution_count": 25,
      "outputs": [
        {
          "output_type": "stream",
          "name": "stdout",
          "text": [
            "Accuracy: 96.19%\n"
          ]
        },
        {
          "output_type": "display_data",
          "data": {
            "text/plain": [
              "<Figure size 1000x1000 with 2 Axes>"
            ],
            "image/png": "[encoded data removed]"
          },
          "metadata": {}
        }
      ]
    },
    {
      "cell_type": "code",
      "source": [
        "torch.save(model.state_dict(), \"model.pth\")"
      ],
      "metadata": {
        "trusted": true,
        "execution": {
          "iopub.status.busy": "2024-11-12T17:34:15.344479Z",
          "iopub.execute_input": "2024-11-12T17:34:15.345143Z",
          "iopub.status.idle": "2024-11-12T17:34:15.353192Z",
          "shell.execute_reply.started": "2024-11-12T17:34:15.345102Z",
          "shell.execute_reply": "2024-11-12T17:34:15.352002Z"
        },
        "id": "JlpY8fBa1HhV"
      },
      "outputs": [],
      "execution_count": 26
    },
    {
      "cell_type": "code",
      "source": [
        "# Save parameters to txt file to copy to hls\n",
        "# iterate through all layers\n",
        "params = {}\n",
        "for name, layer in model.named_children():\n",
        "    if isinstance(layer, nn.Conv1d):\n",
        "        params[name] = torch.flatten(layer.weight.data.permute(0, 2, 1), start_dim=1, end_dim=2)\n",
        "        # concat weight with bias\n",
        "        params[name] = torch.cat((params[name], layer.bias.data.unsqueeze(1)), 1)\n",
        "    elif isinstance(layer, nn.Linear):\n",
        "        params[name] = torch.cat((layer.weight.data, layer.bias.data.unsqueeze(1)), 1)\n",
        "\n",
        "# convert params to c++ array and save to txt file\n",
        "text = \"\"\n",
        "for key, value in params.items():\n",
        "    converted_str = str(value.cpu().numpy().tolist()).replace('[', '{').replace(']', '}')\n",
        "    if (value.dim() == 1):\n",
        "        text += f\"float {key}[{value.shape[0]}] = {converted_str};\\n\"\n",
        "    else:\n",
        "        text += f\"float {key}[{value.shape[0]}][{value.shape[1]}] = {converted_str};\\n\"\n",
        "\n",
        "with open('params.txt', 'w') as f:\n",
        "    f.write(text)\n",
        ""
      ],
      "metadata": {
        "id": "5aYJVyR9-t4z"
      },
      "execution_count": 27,
      "outputs": []
    }
  ]
}